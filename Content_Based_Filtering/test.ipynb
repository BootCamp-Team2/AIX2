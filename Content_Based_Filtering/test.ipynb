{
 "cells": [
  {
   "cell_type": "code",
   "execution_count": 47,
   "metadata": {},
   "outputs": [],
   "source": [
    "import pandas as pd\n",
    "import mysql.connector\n",
    "import numpy as np\n",
    "import json\n",
    "import faiss\n",
    "\n",
    "def fetch_mbti_data(userUID):\n",
    "    # MySQL Server 연결\n",
    "    conn = mysql.connector.connect(\n",
    "        host=\"localhost\",\n",
    "        user=\"root\",\n",
    "        password=\"AIX2_1234\",\n",
    "        database=\"myMBTIDatabase\"\n",
    "    )\n",
    "    \n",
    "    cursor = conn.cursor()\n",
    "    \n",
    "    # 해당 유저의 행 뽑아오기\n",
    "    query_row = \"SELECT * FROM mbtiTable WHERE userUID = %s\"\n",
    "    cursor.execute(query_row, (userUID, ))\n",
    "    results_user = cursor.fetchall()\n",
    "    \n",
    "    # for row in results_user:\n",
    "    #     print(row)\n",
    "    \n",
    "    query_row = \"SELECT * FROM mbtiTable WHERE userUID != %s\"\n",
    "    cursor.execute(query_row, (userUID, ))\n",
    "    results_others = cursor.fetchall()\n",
    "        \n",
    "    # for row in results_others:\n",
    "    #     print(row)\n",
    "\n",
    "    cursor.close()\n",
    "    conn.close()\n",
    "    \n",
    "    user_df = pd.DataFrame(results_user, columns=[\"userUID\", \"myMBTI\", \"recommendMBTI\"])\n",
    "    others_df = pd.DataFrame(results_others, columns=[\"userUID\", \"myMBTI\", \"recommendMBTI\"])\n",
    "    \n",
    "    return user_df, others_df"
   ]
  },
  {
   "cell_type": "code",
   "execution_count": 48,
   "metadata": {},
   "outputs": [
    {
     "name": "stdout",
     "output_type": "stream",
     "text": [
      "      userUID myMBTI     recommendMBTI\n",
      "0  0069994997   INTP  [\"INTJ\", \"INFP\"]\n",
      "      userUID myMBTI     recommendMBTI\n",
      "0  0176191347   ENFJ  [\"INTP\", \"ISTJ\"]\n",
      "1  0302349662   ENFJ  [\"ISFJ\", \"ESFJ\"]\n",
      "2  0416352295   INTP  [\"INFJ\", \"ISTP\"]\n",
      "3  0486470237   ESFP  [\"ESTJ\", \"ISTJ\"]\n",
      "4  0545901790   INFP  [\"ESFP\", \"ESTJ\"]\n"
     ]
    }
   ],
   "source": [
    "# 임시로 유저UID 다음과 같이 지정\n",
    "testUID = \"0069994997\"\n",
    "user_df, others_df = fetch_mbti_data(testUID)\n",
    "print(user_df.head()); print(others_df.head())"
   ]
  },
  {
   "cell_type": "code",
   "execution_count": 49,
   "metadata": {},
   "outputs": [
    {
     "name": "stdout",
     "output_type": "stream",
     "text": [
      "      userUID myMBTI recommendMBTI\n",
      "0  0069994997   INTP  [INTJ, INFP]\n",
      "      userUID myMBTI recommendMBTI\n",
      "0  0176191347   ENFJ  [INTP, ISTJ]\n",
      "1  0302349662   ENFJ  [ISFJ, ESFJ]\n",
      "2  0416352295   INTP  [INFJ, ISTP]\n",
      "3  0486470237   ESFP  [ESTJ, ISTJ]\n",
      "4  0545901790   INFP  [ESFP, ESTJ]\n"
     ]
    }
   ],
   "source": [
    "user_df[\"recommendMBTI\"] = user_df[\"recommendMBTI\"].apply(lambda x: json.loads(x))\n",
    "others_df[\"recommendMBTI\"] = others_df[\"recommendMBTI\"].apply(lambda x: json.loads(x))\n",
    "print(user_df.head()); print(others_df.head())"
   ]
  },
  {
   "cell_type": "code",
   "execution_count": 50,
   "metadata": {},
   "outputs": [
    {
     "name": "stdout",
     "output_type": "stream",
     "text": [
      "      userUID                                            myMBTI  \\\n",
      "0  0069994997  [0, 0, 0, 0, 0, 0, 0, 0, 0, 0, 1, 0, 0, 0, 0, 0]   \n",
      "\n",
      "                                      recommendMBTI  \n",
      "0  [1, 1, 0, 0, 0, 0, 0, 0, 0, 0, 0, 0, 0, 0, 0, 0]  \n",
      "      userUID                                            myMBTI  \\\n",
      "0  0176191347  [0, 0, 0, 0, 0, 1, 0, 0, 0, 0, 0, 0, 0, 0, 0, 0]   \n",
      "1  0302349662  [0, 0, 0, 0, 0, 1, 0, 0, 0, 0, 0, 0, 0, 0, 0, 0]   \n",
      "2  0416352295  [0, 0, 0, 0, 0, 0, 0, 0, 0, 0, 1, 0, 0, 0, 0, 0]   \n",
      "3  0486470237  [0, 0, 0, 1, 0, 0, 0, 0, 0, 0, 0, 0, 0, 0, 0, 0]   \n",
      "4  0545901790  [0, 1, 0, 0, 0, 0, 0, 0, 0, 0, 0, 0, 0, 0, 0, 0]   \n",
      "\n",
      "                                      recommendMBTI  \n",
      "0  [0, 0, 0, 0, 1, 0, 0, 0, 0, 0, 1, 0, 0, 0, 0, 0]  \n",
      "1  [0, 0, 0, 0, 0, 0, 0, 0, 0, 1, 0, 0, 1, 0, 0, 0]  \n",
      "2  [0, 0, 0, 0, 0, 0, 1, 0, 0, 0, 0, 0, 0, 0, 0, 0]  \n",
      "3  [0, 0, 0, 0, 1, 0, 0, 0, 0, 0, 0, 0, 0, 1, 0, 0]  \n",
      "4  [0, 0, 0, 1, 0, 0, 0, 0, 0, 0, 0, 0, 0, 1, 0, 0]  \n"
     ]
    }
   ],
   "source": [
    "# 원핫인코딩 함수\n",
    "mbti_types = [\n",
    "    \"INTJ\", \"INFP\", \"ENTP\", \"ESFP\", \"ISTJ\", \"ENFJ\", \"INFJ\", \"ISFP\",\n",
    "    \"ENTJ\", \"ESFJ\", \"INTP\", \"ESTP\", \"ISFJ\", \"ESTJ\", \"ENFP\", \"INFE\"\n",
    "]\n",
    "\n",
    "def mbti_to_onehot(mbti, mbti_types=mbti_types):\n",
    "    vector = [1 if mbti == t else 0 for t in mbti_types]\n",
    "    return vector\n",
    "\n",
    "def mbti_list_to_one_hot(mbti_list, mbti_types=mbti_types):\n",
    "    combined_vector = np.zeros(len(mbti_types), dtype=int) # 빈 벡터 생성 - 전부 0\n",
    "    for mbti in mbti_list:\n",
    "        single_vector = mbti_to_onehot(mbti, mbti_types)\n",
    "        combined_vector = np.maximum(combined_vector, single_vector)  # 합집합 처리\n",
    "    return combined_vector.tolist()\n",
    "\n",
    "user_df[\"myMBTI\"] = user_df[\"myMBTI\"].apply(mbti_to_onehot)\n",
    "user_df[\"recommendMBTI\"] = user_df[\"recommendMBTI\"].apply(mbti_list_to_one_hot)\n",
    "\n",
    "others_df[\"myMBTI\"] = others_df[\"myMBTI\"].apply(mbti_to_onehot)\n",
    "others_df[\"recommendMBTI\"] = others_df[\"recommendMBTI\"].apply(mbti_list_to_one_hot)\n",
    "print(user_df.head()); print(others_df.head())"
   ]
  },
  {
   "cell_type": "code",
   "execution_count": 51,
   "metadata": {},
   "outputs": [],
   "source": [
    "# FAISS를 위한 벡터리스트로 변환\n",
    "user_recommendMBTI_vectors = np.array(user_df[\"recommendMBTI\"].tolist(), dtype=np.float32)\n",
    "others_myMBTI_vectors = np.array(others_df[\"myMBTI\"].tolist(), dtype=np.float32)"
   ]
  },
  {
   "cell_type": "code",
   "execution_count": 52,
   "metadata": {},
   "outputs": [],
   "source": [
    "# 벡터 정규화\n",
    "faiss.normalize_L2(user_recommendMBTI_vectors)\n",
    "faiss.normalize_L2(others_myMBTI_vectors)"
   ]
  },
  {
   "cell_type": "code",
   "execution_count": 53,
   "metadata": {},
   "outputs": [],
   "source": [
    "# FAISS 인덱스 생성\n",
    "index = faiss.IndexFlatL2(user_recommendMBTI_vectors.shape[1])\n",
    "index.add(others_myMBTI_vectors)"
   ]
  },
  {
   "cell_type": "code",
   "execution_count": 54,
   "metadata": {},
   "outputs": [
    {
     "name": "stdout",
     "output_type": "stream",
     "text": [
      "유사한 벡터: [array([0., 0., 0., 0., 0., 1., 0., 0., 0., 0., 0., 0., 0., 0., 0., 0.],\n",
      "      dtype=float32), array([0., 0., 0., 0., 0., 1., 0., 0., 0., 0., 0., 0., 0., 0., 0., 0.],\n",
      "      dtype=float32), array([0., 0., 0., 0., 0., 1., 0., 0., 0., 0., 0., 0., 0., 0., 0., 0.],\n",
      "      dtype=float32)]\n"
     ]
    }
   ],
   "source": [
    "# 유사도 측정\n",
    "distances, indices = index.search(others_myMBTI_vectors, k=3)\n",
    "\n",
    "similar_users = [others_myMBTI_vectors[i] for i in indices[0]]\n",
    "print(\"유사한 벡터:\", similar_users)"
   ]
  },
  {
   "cell_type": "code",
   "execution_count": 55,
   "metadata": {},
   "outputs": [
    {
     "name": "stdout",
     "output_type": "stream",
     "text": [
      "유사한 userUIDs: ['0176191347', '0302349662', '4788678310']\n"
     ]
    }
   ],
   "source": [
    "similar_userUIDs = [others_df[\"userUID\"][i] for i in indices[0]]  # 인덱스로 userUID 매핑\n",
    "print(\"유사한 userUIDs:\", similar_userUIDs)"
   ]
  }
 ],
 "metadata": {
  "kernelspec": {
   "display_name": "AIX2_python",
   "language": "python",
   "name": "python3"
  },
  "language_info": {
   "codemirror_mode": {
    "name": "ipython",
    "version": 3
   },
   "file_extension": ".py",
   "mimetype": "text/x-python",
   "name": "python",
   "nbconvert_exporter": "python",
   "pygments_lexer": "ipython3",
   "version": "3.12.8"
  }
 },
 "nbformat": 4,
 "nbformat_minor": 2
}
